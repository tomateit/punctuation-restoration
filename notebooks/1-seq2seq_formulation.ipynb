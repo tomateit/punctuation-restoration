{
 "cells": [
  {
   "cell_type": "markdown",
   "metadata": {},
   "source": [
    "# Punctuation restoration"
   ]
  },
  {
   "cell_type": "markdown",
   "metadata": {},
   "source": [
    "The sequence tagging with BERT-like models is quite common among researchers nowdays\n",
    "+ For example, the following research https://www.researchgate.net/publication/348618580_Automatic_punctuation_restoration_with_BERT_models (WordPiece + BERT uncased) suggests tagging words with labes `EMPTY`, `PERIOD`, `COMMA` etc. when they are followed by a punctuation symbol or not. The minor downside of suggested approach is that they use full-fledged dictionary, which may me memory-consuming. \n",
    "+ The overlapping sliding window is suggested to deal with sentences of the size exceeding input length. Due to overelap, for the same pieces we may get several predictions. The mean of them will be taken."
   ]
  },
  {
   "cell_type": "markdown",
   "metadata": {},
   "source": [
    "First of all, in my research I'd like to concentrate on correcting commas in a sentence, so I may limit my output data to \"COMMA\" and \"EMP\" for now"
   ]
  },
  {
   "cell_type": "markdown",
   "metadata": {},
   "source": [
    "1. To train the model from scratch, we have to perform conversion of BPE encoded data to a form, in which our objective would be to predict, wheither a token is followed by a comma/period."
   ]
  },
  {
   "cell_type": "markdown",
   "metadata": {},
   "source": [
    "What else can be added:\n",
    "- Not use lower() on corpus?\n",
    "- Proper sentence splitting\n",
    "- Cleanse messy punctuation from original corpus - as long as I aim this model to work in my telegram assistant, I can expect myself not using strange symbols."
   ]
  },
  {
   "cell_type": "markdown",
   "metadata": {},
   "source": [
    "## Step 1: common preparation of textual data\n",
    "\n",
    "Yttm will behave nicely with text with commas, separated by space from both sides. This approach misses some information, like common word endings that are followed by a comma, yet it may be simplier to implement.\n",
    "\n",
    "**Important**: this shall be done for every training case. At the evaluation step text shall not contain any commas"
   ]
  },
  {
   "cell_type": "code",
   "execution_count": 1,
   "metadata": {},
   "outputs": [],
   "source": [
    "import youtokentome as yttm\n",
    "import pandas as pd\n",
    "import numpy as np\n",
    "import re"
   ]
  },
  {
   "cell_type": "code",
   "execution_count": 2,
   "metadata": {},
   "outputs": [],
   "source": [
    "data = pd.read_parquet(\"text_corpus.parquet\")"
   ]
  },
  {
   "cell_type": "code",
   "execution_count": 3,
   "metadata": {},
   "outputs": [],
   "source": [
    "corpus = [text.replace(\",\", \" ,\") for text in data.text]"
   ]
  },
  {
   "cell_type": "markdown",
   "metadata": {},
   "source": [
    "## Step 2: creating encoder\n",
    "For such modified text data bpe encoder shall be trained separately, of course."
   ]
  },
  {
   "cell_type": "code",
   "execution_count": 6,
   "metadata": {},
   "outputs": [],
   "source": [
    "TOTAL_WORDS = 30000\n",
    "BPE_MODEL_PATH = \"bpe.yttm\"\n",
    "def create_bpe_tokenizer_from_scratch(corpus, train_data_path=\"yttm_train_data.txt\"):\n",
    "    with open(train_data_path, \"w\") as _file:\n",
    "        _file.writelines(corpus)\n",
    "    # Training model\n",
    "    # (data, model, vocab_size, coverage, n_threads=-1, pad_id=0, unk_id=1, bos_id=2, eos_id=3)\n",
    "    return yttm.BPE.train(data=train_data_path, vocab_size=TOTAL_WORDS, model=BPE_MODEL_PATH)"
   ]
  },
  {
   "cell_type": "code",
   "execution_count": 7,
   "metadata": {},
   "outputs": [],
   "source": [
    "bpe = create_bpe_tokenizer_from_scratch(\" \\n \".join(corpus))"
   ]
  },
  {
   "cell_type": "code",
   "execution_count": 8,
   "metadata": {},
   "outputs": [],
   "source": [
    "COMMA = bpe.encode(\" ,\")[0] # COMMA token shall be fixed after each re-training"
   ]
  },
  {
   "cell_type": "code",
   "execution_count": 9,
   "metadata": {},
   "outputs": [
    {
     "name": "stdout",
     "output_type": "stream",
     "text": [
      "<PAD> <UNK> <BOS> <EOS> ▁ о е и а н т с р в л к д п м у я ы з г б , ь й ч . х ж ' ц ю ш щ - ф С Р П э М В К А И О Н Д Ф Г Б Т « » У Е Л Ш ( ) Э ъ З — Ч Я Х Ц : Ю Ъ Ж – ? ” Й ё “   ! ; … Щ / Ы [ ] Ь > < ‒ ­ + * Ё ‘ ​ # • ̆ ‎ ` @ ‚ ’ _ \\ & ️ · = ▁п ст ▁, ▁в ен ▁с ов ра ре ▁н ▁о но то ко ро ни ▁и ▁по ли го те за ль ет ри ны ▁на ▁д ка ени ла та ер на ци ми ств ▁ч ки да ▁б ▁' ти ть ▁за ▁со ▁м ле сс ▁у ви ▁не ру ся ди ▁ко ва ова ▁пре ло об де ста ▁что не ▁ра ско ▁П ▁Р ▁а ▁про ▁об ▁С сти ▁- ▁от ▁э ▁М ▁во ма по во ▁г тель мо ения ля ово ▁В че зи ▁при сси ▁ре ции ду ры щи ем ей ных сто ски ной ▁К ча ▁к\n"
     ]
    }
   ],
   "source": [
    "print(' '.join(bpe.vocab())[:600])"
   ]
  },
  {
   "cell_type": "markdown",
   "metadata": {},
   "source": [
    "## Step 3: comma encoding algorithm\n",
    "\n",
    "Now as we have a way to create a numerical representation of our textual data, we have to process it in a way to \n",
    "1. Remove all commas (our model shall not know where they are originally, just try to predict)\n",
    "2. Save information about commas in a way we will be able to calculate loss between a model's prediction and actual data.\n",
    "\n",
    "In short, our algorithm will be the following:\n",
    "1. At the position of each word followed by a comma we will put label 1\n",
    "2. The following comma token will be stripped out\n",
    "3. At the end, lengthes of encoded sentence and label list shall be equal."
   ]
  },
  {
   "cell_type": "code",
   "execution_count": 10,
   "metadata": {},
   "outputs": [],
   "source": [
    "def encode_commas(sent):\n",
    "    # for-loopish version can be optimized\n",
    "    result = []\n",
    "    for idx, token in enumerate(sent):\n",
    "        if idx == len(sent) - 1:\n",
    "            # no comma checking for last token\n",
    "            result.append(0)\n",
    "        else:\n",
    "            if token == COMMA:\n",
    "                continue\n",
    "            elif sent[idx+1] == COMMA:\n",
    "                result.append(1)\n",
    "            else:\n",
    "                result.append(0)\n",
    "    assert sum(result) > 0, \"Sentence MUST contain at least 1 comma\"\n",
    "    return result"
   ]
  },
  {
   "cell_type": "markdown",
   "metadata": {},
   "source": [
    "## Step 4: creating train data\n"
   ]
  },
  {
   "cell_type": "markdown",
   "metadata": {},
   "source": [
    "1. Encode a sentence\n",
    "2. Encode commas\n",
    "3. Strip commas from encoded sentence\n",
    "4. Ensure lengthes are equal"
   ]
  },
  {
   "cell_type": "code",
   "execution_count": 13,
   "metadata": {},
   "outputs": [],
   "source": [
    "from razdel import sentenize"
   ]
  },
  {
   "cell_type": "code",
   "execution_count": 24,
   "metadata": {},
   "outputs": [],
   "source": [
    "# we dont need sents without commas\n",
    "corpus_of_sents_with_commas = [ sent.strip() \n",
    "                               for text in corpus \n",
    "                               for sent in [s.text for s in sentenize(text)]\n",
    "                               if \",\" in sent ]"
   ]
  },
  {
   "cell_type": "code",
   "execution_count": 25,
   "metadata": {},
   "outputs": [
    {
     "data": {
      "text/plain": [
       "'Процесс создания взрывных устройств на основе данного вещества является опасным (как пишут СМИ , трипероксид ацетона террористы нередко называют «мать Сатаны»).'"
      ]
     },
     "execution_count": 25,
     "metadata": {},
     "output_type": "execute_result"
    }
   ],
   "source": [
    "corpus_of_sents_with_commas[4]"
   ]
  },
  {
   "cell_type": "code",
   "execution_count": 26,
   "metadata": {},
   "outputs": [
    {
     "name": "stdout",
     "output_type": "stream",
     "text": [
      "Lengthes do not match at 46016: sentence has 29 and taglist has 30\n",
      "Lengthes do not match at 102000: sentence has 34 and taglist has 35\n",
      "Lengthes do not match at 108587: sentence has 17 and taglist has 18\n",
      "Lengthes do not match at 192253: sentence has 11 and taglist has 12\n"
     ]
    }
   ],
   "source": [
    "encoded_corpus = []\n",
    "tags = []\n",
    "for idx, sent in enumerate(corpus_of_sents_with_commas):\n",
    "    encoded_sentence = bpe.encode(sent)\n",
    "    if not COMMA in encoded_sentence:\n",
    "        continue\n",
    "    if encoded_sentence[0] == COMMA: # issue of period separation\n",
    "        continue\n",
    "    taglist = encode_commas(encoded_sentence)\n",
    "    encoded_sentence = list(filter(lambda x: x != COMMA, encoded_sentence))\n",
    "    es_len = len(encoded_sentence)\n",
    "    tl_len = len(taglist)\n",
    "    if es_len != tl_len:\n",
    "        print(f\"Lengthes do not match at {idx}: sentence has {es_len} and taglist has {tl_len}\")\n",
    "        continue\n",
    "    encoded_corpus.append(encoded_sentence)\n",
    "    tags.append(taglist)"
   ]
  },
  {
   "cell_type": "code",
   "execution_count": 27,
   "metadata": {},
   "outputs": [
    {
     "data": {
      "text/plain": [
       "223567"
      ]
     },
     "execution_count": 27,
     "metadata": {},
     "output_type": "execute_result"
    }
   ],
   "source": [
    "len(encoded_corpus)"
   ]
  },
  {
   "cell_type": "code",
   "execution_count": 28,
   "metadata": {},
   "outputs": [],
   "source": [
    "assert len(tags) == len(encoded_corpus)"
   ]
  },
  {
   "cell_type": "markdown",
   "metadata": {},
   "source": [
    "## Step 5: creating model"
   ]
  },
  {
   "cell_type": "code",
   "execution_count": 29,
   "metadata": {},
   "outputs": [],
   "source": [
    "import torch\n",
    "import torch.nn as nn\n",
    "import torch.optim as optim\n",
    "import torch.nn.functional as F"
   ]
  },
  {
   "cell_type": "code",
   "execution_count": 31,
   "metadata": {},
   "outputs": [],
   "source": [
    "EMBEDDING_DIM = 24\n",
    "HIDDEN_DIM    = 24\n",
    "VOCAB_SIZE    = TOTAL_WORDS\n",
    "TAGSET_SIZE   = 2"
   ]
  },
  {
   "cell_type": "code",
   "execution_count": 47,
   "metadata": {},
   "outputs": [],
   "source": [
    "class LSTMTagger(nn.Module):\n",
    "\n",
    "    def __init__(self, embedding_dim, hidden_dim, vocab_size, tagset_size):\n",
    "        super(LSTMTagger, self).__init__()\n",
    "        \n",
    "        self.hidden_dim      = hidden_dim\n",
    "        \n",
    "        self.word_embeddings = nn.Embedding(vocab_size, embedding_dim)\n",
    "        self.lstm            = nn.LSTM(embedding_dim, hidden_dim)\n",
    "        self.hidden2tag      = nn.Linear(hidden_dim, tagset_size)\n",
    "#         self.lstm            = nn.LSTM(embedding_dim, hidden_dim, bidirectional=True)\n",
    "#         self.hidden2tag      = nn.Linear(2*hidden_dim, tagset_size)\n",
    "\n",
    "    def forward(self, words):\n",
    "        embeds      = self.word_embeddings(words)\n",
    "        lstm_out, _ = self.lstm(embeds.view(len(words), 1, -1))\n",
    "        tag_space   = self.hidden2tag(lstm_out.view(len(words), -1))\n",
    "        tag_scores  = F.log_softmax(tag_space, dim=1)\n",
    "        \n",
    "        return tag_scores\n",
    "    \n",
    "    def predict_tags(self, words):\n",
    "        with torch.no_grad():\n",
    "            tags_pred = model(words).numpy()\n",
    "            tags_pred = np.argmax(tags_pred, axis=1)\n",
    "            \n",
    "        return tags_pred"
   ]
  },
  {
   "cell_type": "code",
   "execution_count": 48,
   "metadata": {},
   "outputs": [
    {
     "name": "stdout",
     "output_type": "stream",
     "text": [
      "tensor([ 1.0041, 11.1331])\n"
     ]
    }
   ],
   "source": [
    "# weighted loss function\n",
    "zerocount = sum([len(a) - sum(a) for a in tags])\n",
    "onecount = sum([sum(a) for a in tags])\n",
    "\n",
    "class_divs = torch.tensor([zerocount, onecount], dtype=float)\n",
    "norm = torch.norm(class_divs, p=2, dim=0).detach()\n",
    "\n",
    "class_divs = class_divs.div(norm.expand_as(class_divs))\n",
    "class_weights = torch.ones(2)\n",
    "\n",
    "class_weights /= class_divs\n",
    "\n",
    "print(class_weights.detach())"
   ]
  },
  {
   "cell_type": "code",
   "execution_count": 49,
   "metadata": {},
   "outputs": [],
   "source": [
    "model         = LSTMTagger(EMBEDDING_DIM, HIDDEN_DIM, VOCAB_SIZE, TAGSET_SIZE)\n",
    "loss_function = nn.NLLLoss(class_weights) \n",
    "optimizer     = optim.SGD(model.parameters(), lr=0.01)"
   ]
  },
  {
   "cell_type": "code",
   "execution_count": 50,
   "metadata": {},
   "outputs": [],
   "source": [
    "from livelossplot import PlotLosses\n",
    "\n",
    "liveplot = PlotLosses()"
   ]
  },
  {
   "cell_type": "code",
   "execution_count": null,
   "metadata": {},
   "outputs": [
    {
     "data": {
      "image/png": "[encoded data removed]",
      "text/plain": [
       "<Figure size 864x576 with 2 Axes>"
      ]
     },
     "metadata": {
      "needs_background": "light"
     },
     "output_type": "display_data"
    },
    {
     "name": "stdout",
     "output_type": "stream",
     "text": [
      "negative log likelihood loss\n",
      "\tnegative log likelihood loss \t (min:    0.240, max:    1.098, cur:    0.477)\n"
     ]
    }
   ],
   "source": [
    "for epoch in range(10): \n",
    "    for i, (text, taglist) in enumerate(zip(encoded_corpus, tags)):\n",
    "        \n",
    "        model.zero_grad()\n",
    "        text = torch.tensor(text)\n",
    "        taglist = torch.tensor(taglist)\n",
    "#         print(text, labels)\n",
    "#         break\n",
    "        tag_scores = model(text)\n",
    "\n",
    "        loss = loss_function(tag_scores, taglist)\n",
    "        loss.backward()\n",
    "        optimizer.step()\n",
    "        \n",
    "        \n",
    "#         print(loss)\n",
    "#         print(type(loss.detach().numpy()))\n",
    "#         break\n",
    "        if i % 1000 == 0:\n",
    "            l = loss.detach().numpy()\n",
    "            liveplot.update({'negative log likelihood loss': l})\n",
    "            liveplot.draw()\n",
    "            \n",
    "            \n",
    "#         if i == 15000:\n",
    "#             break"
   ]
  },
  {
   "cell_type": "markdown",
   "metadata": {},
   "source": [
    "## Step 6: evaluation and inverse transformation\n",
    "\n",
    "Now when we have a model predicting commas for us, it would be useful to inject those predictions right into our sentence."
   ]
  },
  {
   "cell_type": "markdown",
   "metadata": {},
   "source": [
    "idea: assume the pre-existing commas are correct, and fill in nly missing ones."
   ]
  },
  {
   "cell_type": "code",
   "execution_count": 290,
   "metadata": {},
   "outputs": [],
   "source": [
    "def fill_in_commas(text):\n",
    "    # ensure text has no commas\n",
    "    text = text.replace(\",\", \"\")\n",
    "    # ensure text accidentaly has no spaces in a row\n",
    "    text = re.sub(\"\\s{2,}\", \" \", text)\n",
    "    # encode text by bpe\n",
    "    encoded_text = bpe.encode(text)\n",
    "    # get predicted labels\n",
    "    with torch.no_grad():\n",
    "        predicted_tags = model.predict_tags(torch.tensor(encoded_text))\n",
    "    # inject commas\n",
    "    result = []\n",
    "    for token, label in zip(encoded_text, predicted_tags):\n",
    "        result.append(token)\n",
    "        if label:\n",
    "            result.append(COMMA)\n",
    "    result = bpe.decode(result)[0]\n",
    "    # return normal spacing\n",
    "    result = result.replace(\" ,\", \",\")\n",
    "    return result\n",
    "    "
   ]
  },
  {
   "cell_type": "code",
   "execution_count": 291,
   "metadata": {},
   "outputs": [
    {
     "data": {
      "text/plain": [
       "'я не знаю, что это такое однако могу предположить, что что-то плохое'"
      ]
     },
     "execution_count": 291,
     "metadata": {},
     "output_type": "execute_result"
    }
   ],
   "source": [
    "fill_in_commas(\"я не знаю что это такое однако могу предположить что что-то плохое\")"
   ]
  },
  {
   "cell_type": "code",
   "execution_count": 295,
   "metadata": {},
   "outputs": [
    {
     "data": {
      "text/plain": [
       "'ой ну это да надо убираться больше а ещё почухать его'"
      ]
     },
     "execution_count": 295,
     "metadata": {},
     "output_type": "execute_result"
    }
   ],
   "source": [
    "fill_in_commas(\"ой, ну это да, надо убираться больше а ещё почухать его\")"
   ]
  },
  {
   "cell_type": "markdown",
   "metadata": {},
   "source": [
    "## Saving the model"
   ]
  },
  {
   "cell_type": "code",
   "execution_count": 293,
   "metadata": {},
   "outputs": [
    {
     "data": {
      "text/plain": [
       "LSTMTagger(\n",
       "  (word_embeddings): Embedding(30000, 32)\n",
       "  (lstm): LSTM(32, 32)\n",
       "  (hidden2tag): Linear(in_features=32, out_features=2, bias=True)\n",
       ")"
      ]
     },
     "execution_count": 293,
     "metadata": {},
     "output_type": "execute_result"
    }
   ],
   "source": [
    "torch.save(model.state_dict(), 'lstm_tagger.pt')\n",
    "model = LSTMTagger(EMBEDDING_DIM, HIDDEN_DIM, VOCAB_SIZE, TAGSET_SIZE)\n",
    "\n",
    "model.load_state_dict(torch.load('lstm_tagger.pt'))\n",
    "model.eval()"
   ]
  },
  {
   "cell_type": "code",
   "execution_count": null,
   "metadata": {},
   "outputs": [],
   "source": []
  }
 ],
 "metadata": {
  "kernelspec": {
   "display_name": "punctuation_restoration",
   "language": "python",
   "name": "punctuation_restoration"
  },
  "language_info": {
   "codemirror_mode": {
    "name": "ipython",
    "version": 3
   },
   "file_extension": ".py",
   "mimetype": "text/x-python",
   "name": "python",
   "nbconvert_exporter": "python",
   "pygments_lexer": "ipython3",
   "version": "3.8.2"
  }
 },
 "nbformat": 4,
 "nbformat_minor": 4
}
