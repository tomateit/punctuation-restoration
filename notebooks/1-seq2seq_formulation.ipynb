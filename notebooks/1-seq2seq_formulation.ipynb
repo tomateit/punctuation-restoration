{
 "cells": [
  {
   "cell_type": "markdown",
   "metadata": {},
   "source": [
    "# Punctuation restoration"
   ]
  },
  {
   "cell_type": "markdown",
   "metadata": {},
   "source": [
    "The sequence tagging with BERT-like models is quite common among researchers nowdays\n",
    "+ For example, the following research https://www.researchgate.net/publication/348618580_Automatic_punctuation_restoration_with_BERT_models (WordPiece + BERT uncased) suggests tagging words with labes `EMPTY`, `PERIOD`, `COMMA` etc. when they are followed by a punctuation symbol or not. The minor downside of suggested approach is that they use full-fledged dictionary, which may me memory-consuming. \n",
    "+ The overlapping sliding window is suggested to deal with sentences of the size exceeding input length. Due to overelap, for the same pieces we may get several predictions. The mean of them will be taken."
   ]
  },
  {
   "cell_type": "markdown",
   "metadata": {},
   "source": [
    "First of all, in my research I'd like to concentrate on correcting commas in a sentence, so I may limit my output data to \"COMMA\" and \"EMP\" for now"
   ]
  },
  {
   "cell_type": "markdown",
   "metadata": {},
   "source": [
    "1. To train the model from scratch, we have to perform conversion of BPE encoded data to a form, in which our objective would be to predict, wheither a token is followed by a comma/period."
   ]
  },
  {
   "cell_type": "markdown",
   "metadata": {},
   "source": [
    "## Step 1: common preparation of textual data\n",
    "\n",
    "Yttm will behave nicely with text with commas, separated by space from both sides. This approach misses some information, like common word endings that are followed by a comma, yet it may be simplier to implement.\n",
    "\n",
    "**Important**: this shall be done for every training case. At the evaluation step text shall not contain any commas"
   ]
  },
  {
   "cell_type": "code",
   "execution_count": 193,
   "metadata": {},
   "outputs": [],
   "source": [
    "import youtokentome as yttm\n",
    "import pandas as pd\n",
    "import numpy as np\n",
    "import re"
   ]
  },
  {
   "cell_type": "code",
   "execution_count": 194,
   "metadata": {},
   "outputs": [],
   "source": [
    "data = pd.read_parquet(\"text_corpus.parquet\")"
   ]
  },
  {
   "cell_type": "code",
   "execution_count": 218,
   "metadata": {},
   "outputs": [],
   "source": [
    "corpus = [text.replace(\",\", \" ,\").lower() for text in data.text]"
   ]
  },
  {
   "cell_type": "markdown",
   "metadata": {},
   "source": [
    "## Step 2: creating encoder\n",
    "For such modified text data bpe encoder shall be trained separately, of course."
   ]
  },
  {
   "cell_type": "code",
   "execution_count": 196,
   "metadata": {},
   "outputs": [],
   "source": [
    "TOTAL_WORDS = 30000\n",
    "BPE_MODEL_PATH = \"bpe.yttm\"\n",
    "def create_bpe_tokenizer_from_scratch(corpus, train_data_path=\"yttm_train_data.txt\"):\n",
    "    with open(train_data_path, \"w\") as _file:\n",
    "        _file.writelines(corpus)\n",
    "    # Training model\n",
    "    # (data, model, vocab_size, coverage, n_threads=-1, pad_id=0, unk_id=1, bos_id=2, eos_id=3)\n",
    "    return yttm.BPE.train(data=train_data_path, vocab_size=total_words, model=bpe_model_path)"
   ]
  },
  {
   "cell_type": "code",
   "execution_count": null,
   "metadata": {},
   "outputs": [],
   "source": [
    "bpe = create_bpe_tokenizer_from_scratch(\" \\n \".join(corpus))"
   ]
  },
  {
   "cell_type": "code",
   "execution_count": 228,
   "metadata": {},
   "outputs": [],
   "source": [
    "COMMA = bpe.encode(\" ,\")[0] # COMMA token shall be fixed after each re-training"
   ]
  },
  {
   "cell_type": "code",
   "execution_count": 220,
   "metadata": {},
   "outputs": [
    {
     "name": "stdout",
     "output_type": "stream",
     "text": [
      "<PAD> <UNK> <BOS> <EOS> ▁ о е и а н т с р в л к п д м у я ы г з б , ь ч й . х ж ' ц ю ш ф щ - э « » ъ ( ) — : – ? ” ё “   ! ; … / [ ] > < ‒ ­ + * ‘ ​ # • ̆ ‎ ` @ ‚ ’ _ \\ & ️ · = ▁п ▁с ▁в ▁, ст ни ра ро но ре на ▁о ко то ▁и ▁по го не де те ли ва за ны ▁м ▁на ль ка ри та ле ла во ▁д ве ▁б ти ци ▁со ви ▁ч ки ло ▁у да ▁за ▁' ть ен ми ▁не ▁а сс ▁ко ет ру ▁пре ся ди ▁про ния ▁ра че ско ме ▁что ▁э ▁об об ▁г ▁во ▁от по сти ▁- мо ма ▁к ние ста тель ля ▁при же ▁е се ше ры ▁ре ▁го зи ▁ро сси до ▁до ер ду ции щи ных хо бо ски ной ча ▁ка ще ▁де ту га ного ну чи ▁мо ▁росси лу нии су па ▁то сто ▁ми ▁ф ▁вы ▁с\n"
     ]
    }
   ],
   "source": [
    "print(' '.join(bpe.vocab())[:600])"
   ]
  },
  {
   "cell_type": "markdown",
   "metadata": {},
   "source": [
    "## Step 3: comma encoding algorithm\n",
    "\n",
    "Now as we have a way to create a numerical representation of our textual data, we have to process it in a way to \n",
    "1. Remove all commas (our model shall not know where they are originally, just try to predict)\n",
    "2. Save information about commas in a way we will be able to calculate loss between a model's prediction and actual data.\n",
    "\n",
    "In short, our algorithm will be the following:\n",
    "1. At the position of each word followed by a comma we will put label 1\n",
    "2. The following comma token will be stripped out\n",
    "3. At the end, lengthes of encoded sentence and label list shall be equal."
   ]
  },
  {
   "cell_type": "code",
   "execution_count": 247,
   "metadata": {},
   "outputs": [],
   "source": [
    "def encode_commas(sent):\n",
    "    # for-loopish version can be optimized\n",
    "    result = []\n",
    "    for idx, token in enumerate(sent):\n",
    "        if idx == len(sent) - 1:\n",
    "            # no comma checking for last token\n",
    "            result.append(0)\n",
    "        else:\n",
    "            if token == COMMA:\n",
    "                continue\n",
    "            elif sent[idx+1] == COMMA:\n",
    "                result.append(1)\n",
    "            else:\n",
    "                result.append(0)\n",
    "    assert sum(result) > 0, \"Sentence MUST contain at least 1 comma\"\n",
    "    return result"
   ]
  },
  {
   "cell_type": "markdown",
   "metadata": {},
   "source": [
    "## Step 4: creating train data\n"
   ]
  },
  {
   "cell_type": "markdown",
   "metadata": {},
   "source": [
    "1. Encode a sentence\n",
    "2. Encode commas\n",
    "3. Strip commas from encoded sentence\n",
    "4. Ensure lengthes are equal"
   ]
  },
  {
   "cell_type": "code",
   "execution_count": 204,
   "metadata": {},
   "outputs": [],
   "source": [
    "# sentences for now are just by splitting by period\n",
    "# also we dont need sents without commas\n",
    "corpus_of_sents_with_commas = [ sent.strip() \n",
    "                               for text in corpus \n",
    "                               for sent in text.split(\".\") \n",
    "                               if \",\" in sent \n",
    "                               and len(sent) > 15 ]"
   ]
  },
  {
   "cell_type": "code",
   "execution_count": 267,
   "metadata": {},
   "outputs": [
    {
     "name": "stdout",
     "output_type": "stream",
     "text": [
      "Lengthes do not match at 27196: sentence has 19 and taglist has 20\n",
      "Lengthes do not match at 44791: sentence has 28 and taglist has 29\n",
      "Lengthes do not match at 46328: sentence has 28 and taglist has 29\n",
      "Lengthes do not match at 62664: sentence has 15 and taglist has 16\n",
      "Lengthes do not match at 77385: sentence has 22 and taglist has 23\n",
      "Lengthes do not match at 100192: sentence has 28 and taglist has 29\n",
      "Lengthes do not match at 102759: sentence has 34 and taglist has 35\n",
      "Lengthes do not match at 109407: sentence has 17 and taglist has 18\n",
      "Lengthes do not match at 131586: sentence has 23 and taglist has 24\n",
      "Lengthes do not match at 142921: sentence has 25 and taglist has 26\n",
      "Lengthes do not match at 144235: sentence has 25 and taglist has 26\n",
      "Lengthes do not match at 193790: sentence has 11 and taglist has 12\n",
      "Lengthes do not match at 196326: sentence has 17 and taglist has 18\n",
      "Lengthes do not match at 217702: sentence has 16 and taglist has 17\n"
     ]
    }
   ],
   "source": [
    "encoded_corpus = []\n",
    "tags = []\n",
    "for idx, sent in enumerate(corpus_of_sents_with_commas):\n",
    "    encoded_sentence = bpe.encode(sent)\n",
    "    if not COMMA in encoded_sentence:\n",
    "        continue\n",
    "    if encoded_sentence[0] == COMMA: # issue of period separation\n",
    "        continue\n",
    "    taglist = encode_commas(encoded_sentence)\n",
    "    encoded_sentence = list(filter(lambda x: x != COMMA, encoded_sentence))\n",
    "    es_len = len(encoded_sentence)\n",
    "    tl_len = len(taglist)\n",
    "    if es_len != tl_len:\n",
    "        print(f\"Lengthes do not match at {idx}: sentence has {es_len} and taglist has {tl_len}\")\n",
    "        continue\n",
    "    encoded_corpus.append(encoded_sentence)\n",
    "    tags.append(taglist)"
   ]
  },
  {
   "cell_type": "code",
   "execution_count": 269,
   "metadata": {},
   "outputs": [
    {
     "data": {
      "text/plain": [
       "225488"
      ]
     },
     "execution_count": 269,
     "metadata": {},
     "output_type": "execute_result"
    }
   ],
   "source": [
    "len(encoded_corpus)"
   ]
  },
  {
   "cell_type": "code",
   "execution_count": 268,
   "metadata": {},
   "outputs": [],
   "source": [
    "assert len(tags) == len(encoded_corpus)"
   ]
  },
  {
   "cell_type": "markdown",
   "metadata": {},
   "source": [
    "## Step 5: creating model"
   ]
  },
  {
   "cell_type": "code",
   "execution_count": 259,
   "metadata": {},
   "outputs": [],
   "source": [
    "import torch\n",
    "import torch.nn as nn\n",
    "import torch.optim as optim\n",
    "import torch.nn.functional as F"
   ]
  },
  {
   "cell_type": "code",
   "execution_count": 260,
   "metadata": {},
   "outputs": [],
   "source": [
    "EMBEDDING_DIM = 32\n",
    "HIDDEN_DIM    = 32\n",
    "VOCAB_SIZE    = total_words\n",
    "TAGSET_SIZE   = len(target_mapping)"
   ]
  },
  {
   "cell_type": "code",
   "execution_count": 261,
   "metadata": {},
   "outputs": [],
   "source": [
    "class LSTMTagger(nn.Module):\n",
    "\n",
    "    def __init__(self, embedding_dim, hidden_dim, vocab_size, tagset_size):\n",
    "        super(LSTMTagger, self).__init__()\n",
    "        \n",
    "        self.hidden_dim      = hidden_dim\n",
    "        \n",
    "        self.word_embeddings = nn.Embedding(vocab_size, embedding_dim)\n",
    "        self.lstm            = nn.LSTM(embedding_dim, hidden_dim)\n",
    "        self.hidden2tag      = nn.Linear(hidden_dim, tagset_size)\n",
    "\n",
    "    def forward(self, words):\n",
    "        embeds      = self.word_embeddings(words)\n",
    "        lstm_out, _ = self.lstm(embeds.view(len(words), 1, -1))\n",
    "        tag_space   = self.hidden2tag(lstm_out.view(len(words), -1))\n",
    "        tag_scores  = F.log_softmax(tag_space, dim=1)\n",
    "        \n",
    "        return tag_scores\n",
    "    \n",
    "    def predict_tags(self, words):\n",
    "        with torch.no_grad():\n",
    "            tags_pred = model(words).numpy()\n",
    "            tags_pred = np.argmax(tags_pred, axis=1)\n",
    "            \n",
    "        return tags_pred"
   ]
  },
  {
   "cell_type": "code",
   "execution_count": 270,
   "metadata": {},
   "outputs": [],
   "source": [
    "model         = LSTMTagger(EMBEDDING_DIM, HIDDEN_DIM, VOCAB_SIZE, TAGSET_SIZE)\n",
    "loss_function = nn.NLLLoss() \n",
    "optimizer     = optim.SGD(model.parameters(), lr=0.1)"
   ]
  },
  {
   "cell_type": "code",
   "execution_count": 271,
   "metadata": {},
   "outputs": [],
   "source": [
    "from livelossplot import PlotLosses\n",
    "\n",
    "liveplot = PlotLosses()"
   ]
  },
  {
   "cell_type": "code",
   "execution_count": null,
   "metadata": {
    "scrolled": false
   },
   "outputs": [
    {
     "data": {
      "image/png": "[encoded data removed]",
      "text/plain": [
       "<Figure size 864x576 with 2 Axes>"
      ]
     },
     "metadata": {
      "needs_background": "light"
     },
     "output_type": "display_data"
    },
    {
     "name": "stdout",
     "output_type": "stream",
     "text": [
      "negative log likelihood loss\n",
      "\tnegative log likelihood loss \t (min:    0.019, max:    1.134, cur:    0.335)\n"
     ]
    }
   ],
   "source": [
    "for epoch in range(10): \n",
    "    for i, (text, taglist) in enumerate(zip(encoded_corpus, tags)):\n",
    "        \n",
    "        model.zero_grad()\n",
    "        text = torch.tensor(text)\n",
    "        taglist = torch.tensor(taglist)\n",
    "#         print(text, labels)\n",
    "#         break\n",
    "        tag_scores = model(text)\n",
    "\n",
    "        loss = loss_function(tag_scores, taglist)\n",
    "        loss.backward()\n",
    "        optimizer.step()\n",
    "        \n",
    "        \n",
    "#         print(loss)\n",
    "#         print(type(loss.detach().numpy()))\n",
    "#         break\n",
    "        if i % 1000 == 0:\n",
    "            l = loss.detach().numpy()\n",
    "            liveplot.update({'negative log likelihood loss': l})\n",
    "            liveplot.draw()\n",
    "            \n",
    "            \n",
    "#         if i == 15000:\n",
    "#             break"
   ]
  },
  {
   "cell_type": "markdown",
   "metadata": {},
   "source": [
    "## Step 6: evaluation and inverse transformation\n",
    "\n",
    "Now when we have a model predicting commas for us, it would be useful to inject those predictions right into our sentence."
   ]
  },
  {
   "cell_type": "code",
   "execution_count": null,
   "metadata": {},
   "outputs": [],
   "source": [
    "def fill_in_commas(text):\n",
    "    # ensure text has no commas\n",
    "    text = text.replace(\",\", \"\")\n",
    "    # ensure text accidentaly has no spaces in a row\n",
    "    text = re.sub(\"\\s{2,}\", \" \", text)\n",
    "    # encode text by bpe\n",
    "    encoded_text = bpe.encode(text)\n",
    "    # get predicted labels\n",
    "    predicted_tags = modek.predict_tags(encoded_text)\n",
    "    # inject commas\n",
    "    result = []\n",
    "    for token, label in zip(encoded_text, predicted_tags):\n",
    "        result.append(token)\n",
    "        if label:\n",
    "            result.append(COMMA)\n",
    "    return bpe.decode(result)\n",
    "    "
   ]
  },
  {
   "cell_type": "code",
   "execution_count": null,
   "metadata": {},
   "outputs": [],
   "source": []
  }
 ],
 "metadata": {
  "kernelspec": {
   "display_name": "punctuation_restoration",
   "language": "python",
   "name": "punctuation_restoration"
  },
  "language_info": {
   "codemirror_mode": {
    "name": "ipython",
    "version": 3
   },
   "file_extension": ".py",
   "mimetype": "text/x-python",
   "name": "python",
   "nbconvert_exporter": "python",
   "pygments_lexer": "ipython3",
   "version": "3.8.2"
  }
 },
 "nbformat": 4,
 "nbformat_minor": 4
}
