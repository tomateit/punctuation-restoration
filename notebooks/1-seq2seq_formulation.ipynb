{
 "cells": [
  {
   "cell_type": "markdown",
   "metadata": {},
   "source": [
    "# Punctuation restoration"
   ]
  },
  {
   "cell_type": "markdown",
   "metadata": {},
   "source": [
    "The sequence tagging with BERT-like models is quite common among researchers nowdays\n",
    "+ For example, the following research https://www.researchgate.net/publication/348618580_Automatic_punctuation_restoration_with_BERT_models (WordPiece + BERT uncased) suggests tagging words with labes `EMPTY`, `PERIOD`, `COMMA` etc. when they are followed by a punctuation symbol or not. The minor downside of suggested approach is that they use full-fledged dictionary, which may be memory-consuming. \n",
    "+ The overlapping sliding window is suggested to deal with sentences of the size exceeding input length. Due to overelap, for the same pieces we may get several predictions. The mean of them will be taken."
   ]
  },
  {
   "cell_type": "markdown",
   "metadata": {},
   "source": [
    "1. First of all, in my research I'd like to concentrate on correcting commas in a sentence, so I may limit my output data to \"COMMA\" and \"EMP\" for now\n",
    "2. I gonna try LSTM approach first - BERT seems to be too large for the task. Moreover, it can let us feed into sentences of an arbitary length."
   ]
  },
  {
   "cell_type": "markdown",
   "metadata": {},
   "source": [
    "1. To train the model from scratch, we have to perform conversion of BPE encoded data to a form, in which our objective would be to predict, wheither a token is followed by a comma/period."
   ]
  },
  {
   "cell_type": "markdown",
   "metadata": {},
   "source": [
    "What else can be added:\n",
    "- Not use lower() on corpus?\n",
    "    + Done\n",
    "- Proper sentence splitting\n",
    "    + Done\n",
    "- Cleanse messy punctuation from original corpus - as long as I aim this model to work in my telegram assistant, I can expect myself not using strange symbols.\n",
    "- Add more texts\n",
    "    + Added russian literature corpus along with my collected news corpus."
   ]
  },
  {
   "cell_type": "markdown",
   "metadata": {},
   "source": [
    "## Step 1: common preparation of textual data\n",
    "\n",
    "Yttm will behave nicely with text with commas, separated by space from both sides. This approach misses some information, like common word endings that are followed by a comma, yet it may be simplier to implement.\n",
    "\n",
    "**Important**: this shall be done for every training case. At the evaluation step text shall not contain any commas"
   ]
  },
  {
   "cell_type": "code",
   "execution_count": 1,
   "metadata": {},
   "outputs": [],
   "source": [
    "import youtokentome as yttm\n",
    "import pandas as pd\n",
    "import numpy as np\n",
    "import re"
   ]
  },
  {
   "cell_type": "code",
   "execution_count": 2,
   "metadata": {},
   "outputs": [],
   "source": [
    "data = pd.read_parquet(\"text_corpus.parquet\")"
   ]
  },
  {
   "cell_type": "code",
   "execution_count": 3,
   "metadata": {},
   "outputs": [],
   "source": [
    "corpus = [text.replace(\",\", \" ,\") for text in data.text]"
   ]
  },
  {
   "cell_type": "code",
   "execution_count": 150,
   "metadata": {},
   "outputs": [],
   "source": [
    "# the archive shall be pre-downloaded\n",
    "# https://github.com/natasha/corus#load_taiga_proza\n",
    "from corus import load_taiga_proza_metas, load_taiga_proza\n",
    "from pathlib import Path\n",
    "\n",
    "path = Path(\"~/datasets/corus/taiga/proza_ru.zip\").expanduser()\n",
    "if not path.parent.exists():\n",
    "    path.parent.mkdir(parents=True, exist_ok=False)\n",
    "\n",
    "metas = load_taiga_proza_metas(path, offset=0, count=60000)\n",
    "records = load_taiga_proza(path, metas, offset=0, count=60000)"
   ]
  },
  {
   "cell_type": "code",
   "execution_count": 151,
   "metadata": {},
   "outputs": [],
   "source": [
    "corpus.extend([record.text.replace(\",\", \" ,\") for record in records])"
   ]
  },
  {
   "cell_type": "code",
   "execution_count": 155,
   "metadata": {},
   "outputs": [
    {
     "data": {
      "text/plain": [
       "30000"
      ]
     },
     "execution_count": 155,
     "metadata": {},
     "output_type": "execute_result"
    }
   ],
   "source": [
    "len(corpus)"
   ]
  },
  {
   "cell_type": "markdown",
   "metadata": {},
   "source": [
    "## Step 2: creating encoder\n",
    "For such modified text data bpe encoder shall be trained separately, of course."
   ]
  },
  {
   "cell_type": "code",
   "execution_count": 69,
   "metadata": {},
   "outputs": [],
   "source": [
    "TOTAL_WORDS = 5000\n",
    "BPE_MODEL_PATH = \"bpe.yttm\"\n",
    "\n",
    "\n",
    "def create_bpe_tokenizer_from_scratch(corpus, train_data_path=\"yttm_train_data.txt\"):\n",
    "    with open(train_data_path, \"w\") as _file:\n",
    "        _file.writelines(corpus)\n",
    "    # Training model\n",
    "    # (data, model, vocab_size, coverage, n_threads=-1, pad_id=0, unk_id=1, bos_id=2, eos_id=3)\n",
    "    return yttm.BPE.train(\n",
    "        data=train_data_path, vocab_size=TOTAL_WORDS, model=BPE_MODEL_PATH, n_threads=6\n",
    "    )"
   ]
  },
  {
   "cell_type": "code",
   "execution_count": 70,
   "metadata": {},
   "outputs": [],
   "source": [
    "bpe = create_bpe_tokenizer_from_scratch(\" \\n \".join(corpus))"
   ]
  },
  {
   "cell_type": "code",
   "execution_count": 71,
   "metadata": {},
   "outputs": [],
   "source": [
    "COMMA = bpe.encode(\" ,\")[0]  # COMMA token shall be fixed after each re-training"
   ]
  },
  {
   "cell_type": "code",
   "execution_count": 72,
   "metadata": {},
   "outputs": [
    {
     "name": "stdout",
     "output_type": "stream",
     "text": [
      "<PAD> <UNK> <BOS> <EOS> ▁ о е а и н т с л р в к м д у п , . я ь ы з г б ч й - ж х ш ю ц щ э Н \" В С § П О А ! ё И К М ф Т Д Я Р : Б Л ' Е Г У Э З Ч ) Х ( e Ф * Ц ъ 1 0 a t o Ш i Ж n r 2 Ю s Ъ Ь h l u p 9 5 d 3 ; 4 « » y m c Ы 8 6 7 w Щ / g Й I f b k — v S ~ = A x T z M Ё C P | N D V H B E R O X } { L [ ] q W F % G + – j Y $ K @ ? J U \\ & ” “   # Z € Q … ^ > < ‒ ­ ‘ ​ • ̆ ‎ ` ‚ ’ _ ️ · ▁, ▁п ▁с ▁н ▁в то ▁о но ▁и ра ко ст ро ен ▁по ал го ▁д ка ▁м ре ▁не ▁на ▁- ▁б ли ла ет ▁т ть ло ни ри ▁з ▁ч во на ▁у ва ся ер ны ль ки да ем ▁за сь ру ▁к ле ▁е ▁ко те ▁что ти ми ви ди не ну же ▁ра та ▁ка ▁про ▁--\n"
     ]
    }
   ],
   "source": [
    "print(\" \".join(bpe.vocab())[:600])"
   ]
  },
  {
   "cell_type": "markdown",
   "metadata": {},
   "source": [
    "## Step 3: comma encoding algorithm\n",
    "\n",
    "Now as we have a way to create a numerical representation of our textual data, we have to process it in a way to \n",
    "1. Remove all commas (our model shall not know where they are originally, just try to predict)\n",
    "2. Save information about commas in a way we will be able to calculate loss between a model's prediction and actual data.\n",
    "\n",
    "In short, our algorithm will be the following:\n",
    "1. At the position of each word followed by a comma we will put label 1\n",
    "2. The following comma token will be stripped out\n",
    "3. At the end, lengthes of encoded sentence and label list shall be equal."
   ]
  },
  {
   "cell_type": "code",
   "execution_count": 73,
   "metadata": {},
   "outputs": [],
   "source": [
    "def encode_commas(sent):\n",
    "    # for-loopish version can be optimized\n",
    "    result = []\n",
    "    for idx, token in enumerate(sent):\n",
    "        if idx == len(sent) - 1:\n",
    "            # no comma checking for last token\n",
    "            result.append(0)\n",
    "        else:\n",
    "            if token == COMMA:\n",
    "                continue\n",
    "            elif sent[idx + 1] == COMMA:\n",
    "                result.append(1)\n",
    "            else:\n",
    "                result.append(0)\n",
    "    assert sum(result) > 0, \"Sentence MUST contain at least 1 comma\"\n",
    "    return result"
   ]
  },
  {
   "cell_type": "markdown",
   "metadata": {},
   "source": [
    "## Step 4: creating train data\n"
   ]
  },
  {
   "cell_type": "markdown",
   "metadata": {},
   "source": [
    "1. Encode a sentence\n",
    "2. Encode commas\n",
    "3. Strip commas from encoded sentence\n",
    "4. Ensure lengthes are equal"
   ]
  },
  {
   "cell_type": "code",
   "execution_count": 88,
   "metadata": {},
   "outputs": [],
   "source": [
    "from razdel import sentenize\n",
    "from tqdm import tqdm"
   ]
  },
  {
   "cell_type": "code",
   "execution_count": 156,
   "metadata": {},
   "outputs": [],
   "source": [
    "# we dont need sents without commas\n",
    "corpus_of_sents_with_commas = [\n",
    "    sent.strip()\n",
    "    for text in corpus\n",
    "    for sent in [s.text for s in sentenize(text)]\n",
    "    if \",\" in sent\n",
    "]"
   ]
  },
  {
   "cell_type": "code",
   "execution_count": 79,
   "metadata": {},
   "outputs": [
    {
     "name": "stdout",
     "output_type": "stream",
     "text": [
      "Lengthes do not match at 46016: sentence has 54 and taglist has 55\n",
      "Lengthes do not match at 102000: sentence has 58 and taglist has 59\n",
      "Lengthes do not match at 108587: sentence has 31 and taglist has 32\n",
      "Lengthes do not match at 192253: sentence has 20 and taglist has 21\n",
      "Lengthes do not match at 304714: sentence has 3 and taglist has 4\n",
      "Lengthes do not match at 309075: sentence has 27 and taglist has 28\n",
      "Lengthes do not match at 451750: sentence has 49 and taglist has 50\n",
      "Lengthes do not match at 580462: sentence has 6 and taglist has 7\n",
      "Lengthes do not match at 1024632: sentence has 27 and taglist has 28\n",
      "Lengthes do not match at 1031208: sentence has 10 and taglist has 11\n",
      "Lengthes do not match at 1349990: sentence has 5 and taglist has 6\n",
      "Lengthes do not match at 1758026: sentence has 6 and taglist has 7\n",
      "Lengthes do not match at 1837744: sentence has 191 and taglist has 192\n",
      "Lengthes do not match at 2008310: sentence has 17 and taglist has 18\n",
      "Lengthes do not match at 2367613: sentence has 35 and taglist has 36\n",
      "Lengthes do not match at 2652457: sentence has 10 and taglist has 11\n"
     ]
    }
   ],
   "source": [
    "encoded_corpus = []\n",
    "tags = []\n",
    "for idx, sent in enumerate(corpus_of_sents_with_commas):\n",
    "    encoded_sentence = bpe.encode(sent)\n",
    "    if not COMMA in encoded_sentence:\n",
    "        continue\n",
    "    if encoded_sentence[0] == COMMA:  # issue of period separation\n",
    "        continue\n",
    "    taglist = encode_commas(encoded_sentence)\n",
    "    encoded_sentence = list(filter(lambda x: x != COMMA, encoded_sentence))\n",
    "    es_len = len(encoded_sentence)\n",
    "    tl_len = len(taglist)\n",
    "    if es_len > 200:\n",
    "        continue  # I keep no hope the net will manage to comprehend such a lenthy chunk\n",
    "    if es_len != tl_len:\n",
    "        print(f\"Lengthes do not match at {idx}: sentence has {es_len} and taglist has {tl_len}\")\n",
    "        continue\n",
    "    encoded_corpus.append(encoded_sentence)\n",
    "    tags.append(taglist)"
   ]
  },
  {
   "cell_type": "code",
   "execution_count": 80,
   "metadata": {},
   "outputs": [
    {
     "data": {
      "text/plain": [
       "3206882"
      ]
     },
     "execution_count": 80,
     "metadata": {},
     "output_type": "execute_result"
    }
   ],
   "source": [
    "len(encoded_corpus)"
   ]
  },
  {
   "cell_type": "code",
   "execution_count": 81,
   "metadata": {},
   "outputs": [],
   "source": [
    "assert len(tags) == len(encoded_corpus)"
   ]
  },
  {
   "cell_type": "markdown",
   "metadata": {},
   "source": [
    "## Step 5: creating model"
   ]
  },
  {
   "cell_type": "code",
   "execution_count": 82,
   "metadata": {},
   "outputs": [],
   "source": [
    "import torch\n",
    "import torch.nn as nn\n",
    "import torch.optim as optim\n",
    "import torch.nn.functional as F"
   ]
  },
  {
   "cell_type": "code",
   "execution_count": 83,
   "metadata": {},
   "outputs": [],
   "source": [
    "EMBEDDING_DIM = 24\n",
    "HIDDEN_DIM = 24\n",
    "VOCAB_SIZE = TOTAL_WORDS\n",
    "TAGSET_SIZE = 2"
   ]
  },
  {
   "cell_type": "code",
   "execution_count": 84,
   "metadata": {},
   "outputs": [],
   "source": [
    "class LSTMTagger(nn.Module):\n",
    "    def __init__(self, embedding_dim, hidden_dim, vocab_size, tagset_size):\n",
    "        super(LSTMTagger, self).__init__()\n",
    "\n",
    "        self.hidden_dim = hidden_dim\n",
    "\n",
    "        self.word_embeddings = nn.Embedding(vocab_size, embedding_dim)\n",
    "        self.lstm = nn.LSTM(embedding_dim, hidden_dim)\n",
    "        self.hidden2tag = nn.Linear(hidden_dim, tagset_size)\n",
    "\n",
    "    #         self.lstm            = nn.LSTM(embedding_dim, hidden_dim, bidirectional=True)\n",
    "    #         self.hidden2tag      = nn.Linear(2*hidden_dim, tagset_size)\n",
    "\n",
    "    def forward(self, words):\n",
    "        embeds = self.word_embeddings(words)\n",
    "        lstm_out, _ = self.lstm(embeds.view(len(words), 1, -1))\n",
    "        tag_space = self.hidden2tag(lstm_out.view(len(words), -1))\n",
    "        tag_scores = F.log_softmax(tag_space, dim=1)\n",
    "\n",
    "        return tag_scores\n",
    "\n",
    "    def predict_tags(self, words):\n",
    "        with torch.no_grad():\n",
    "            tags_pred = model(words).numpy()\n",
    "            tags_pred = np.argmax(tags_pred, axis=1)\n",
    "\n",
    "        return tags_pred"
   ]
  },
  {
   "cell_type": "code",
   "execution_count": 85,
   "metadata": {},
   "outputs": [
    {
     "name": "stdout",
     "output_type": "stream",
     "text": [
      "tensor([ 1.0032, 12.5483])\n"
     ]
    }
   ],
   "source": [
    "# weighted loss function\n",
    "zerocount = sum([len(a) - sum(a) for a in tags])\n",
    "onecount = sum([sum(a) for a in tags])\n",
    "\n",
    "class_divs = torch.tensor([zerocount, onecount], dtype=float)\n",
    "norm = torch.norm(class_divs, p=2, dim=0).detach()\n",
    "\n",
    "class_divs = class_divs.div(norm.expand_as(class_divs))\n",
    "class_weights = torch.ones(2)\n",
    "\n",
    "class_weights /= class_divs\n",
    "\n",
    "print(class_weights.detach())"
   ]
  },
  {
   "cell_type": "code",
   "execution_count": 86,
   "metadata": {},
   "outputs": [],
   "source": [
    "model = LSTMTagger(EMBEDDING_DIM, HIDDEN_DIM, VOCAB_SIZE, TAGSET_SIZE)\n",
    "optimizer = optim.SGD(model.parameters(), lr=0.01)"
   ]
  },
  {
   "cell_type": "code",
   "execution_count": null,
   "metadata": {},
   "outputs": [],
   "source": [
    "# loss_function = nn.NLLLoss(class_weights)"
   ]
  },
  {
   "cell_type": "code",
   "execution_count": 152,
   "metadata": {},
   "outputs": [
    {
     "data": {
      "text/plain": [
       "tensor([ 1.0032, 12.5483])"
      ]
     },
     "execution_count": 152,
     "metadata": {},
     "output_type": "execute_result"
    }
   ],
   "source": [
    "class_weights"
   ]
  },
  {
   "cell_type": "code",
   "execution_count": 157,
   "metadata": {},
   "outputs": [],
   "source": [
    "loss_function = nn.NLLLoss()"
   ]
  },
  {
   "cell_type": "code",
   "execution_count": 159,
   "metadata": {},
   "outputs": [],
   "source": [
    "from livelossplot import PlotLosses\n",
    "\n",
    "liveplot = PlotLosses()"
   ]
  },
  {
   "cell_type": "code",
   "execution_count": 160,
   "metadata": {},
   "outputs": [
    {
     "data": {
      "image/png": "[encoded data removed]",
      "text/plain": [
       "<Figure size 864x576 with 2 Axes>"
      ]
     },
     "metadata": {
      "needs_background": "light"
     },
     "output_type": "display_data"
    },
    {
     "name": "stdout",
     "output_type": "stream",
     "text": [
      "negative log likelihood loss\n",
      "\tnegative log likelihood loss \t (min:    0.006, max:    2.494, cur:    0.310)\n",
      "Iteration 3206000 of epoch 4\n"
     ]
    }
   ],
   "source": [
    "for epoch in range(5):\n",
    "    for i, (text, taglist) in enumerate(zip(encoded_corpus, tags)):\n",
    "        model.train()\n",
    "        model.zero_grad()\n",
    "        text = torch.tensor(text)\n",
    "        taglist = torch.tensor(taglist)\n",
    "        tag_scores = model(text)\n",
    "\n",
    "        loss = loss_function(tag_scores, taglist)\n",
    "        loss.backward()\n",
    "        optimizer.step()\n",
    "\n",
    "        if i % 1000 == 0:\n",
    "            l = loss.detach().numpy()\n",
    "            liveplot.update({\"negative log likelihood loss\": l})\n",
    "            liveplot.draw()\n",
    "            print(f\"Iteration {i} of epoch {epoch}\")"
   ]
  },
  {
   "cell_type": "markdown",
   "metadata": {},
   "source": [
    "## Step 6: evaluation and inverse transformation\n",
    "\n",
    "Now when we have a model predicting commas for us, it would be useful to inject those predictions right into our sentence."
   ]
  },
  {
   "cell_type": "markdown",
   "metadata": {},
   "source": [
    "idea: assume the pre-existing commas are correct, and fill in only missing ones."
   ]
  },
  {
   "cell_type": "code",
   "execution_count": 161,
   "metadata": {},
   "outputs": [],
   "source": [
    "def fill_in_commas(text):\n",
    "    # ensure text accidentaly has no spaces in a row\n",
    "    text = re.sub(\"\\s{2,}\", \" \", text)\n",
    "    # encode text by bpe\n",
    "    encoded_text = bpe.encode(text)\n",
    "    # get predicted labels\n",
    "    with torch.no_grad():\n",
    "        predicted_tags = model.predict_tags(torch.tensor(encoded_text))\n",
    "    # inject commas\n",
    "    result = []\n",
    "    for token, label in zip(encoded_text, predicted_tags):\n",
    "        result.append(token)\n",
    "        if label:\n",
    "            result.append(COMMA)\n",
    "    result = bpe.decode(result)[0]\n",
    "    # return normal spacing\n",
    "    result = result.replace(\" ,\", \",\")\n",
    "\n",
    "    # remove commas in the middle of words (this actually shall not be the case but nevertheless)\n",
    "    result = re.sub(\"(?<=\\w),(?=\\w)\", \"\", result)\n",
    "    # same with commas right before punctuations\n",
    "    result = re.sub(\",(?=[.?!;:])\", \"\", result)\n",
    "\n",
    "    result = result.replace(\",,\", \",\")\n",
    "    return result"
   ]
  },
  {
   "cell_type": "code",
   "execution_count": 162,
   "metadata": {},
   "outputs": [
    {
     "data": {
      "text/plain": [
       "'Я не знаю, что это такое, однако, могу предположить, что что-то плохое.'"
      ]
     },
     "execution_count": 162,
     "metadata": {},
     "output_type": "execute_result"
    }
   ],
   "source": [
    "fill_in_commas(\"Я не знаю что это такое однако могу предположить что что-то плохое.\")"
   ]
  },
  {
   "cell_type": "code",
   "execution_count": 163,
   "metadata": {},
   "outputs": [
    {
     "data": {
      "text/plain": [
       "'Ой, ну, это - да; надо, убираться, больше, а ещё почухать, его.'"
      ]
     },
     "execution_count": 163,
     "metadata": {},
     "output_type": "execute_result"
    }
   ],
   "source": [
    "fill_in_commas(\"Ой, ну это - да; надо убираться больше а ещё почухать его.\")"
   ]
  },
  {
   "cell_type": "code",
   "execution_count": 164,
   "metadata": {},
   "outputs": [
    {
     "data": {
      "text/plain": [
       "'Всё, это очень долгое, сложное, неинтересное, и непонятное.'"
      ]
     },
     "execution_count": 164,
     "metadata": {},
     "output_type": "execute_result"
    }
   ],
   "source": [
    "fill_in_commas(\"Всё это очень долгое сложное неинтересное и непонятное.\")"
   ]
  },
  {
   "cell_type": "markdown",
   "metadata": {},
   "source": [
    "## Saving the model"
   ]
  },
  {
   "cell_type": "code",
   "execution_count": 165,
   "metadata": {},
   "outputs": [
    {
     "data": {
      "text/plain": [
       "LSTMTagger(\n",
       "  (word_embeddings): Embedding(5000, 24)\n",
       "  (lstm): LSTM(24, 24)\n",
       "  (hidden2tag): Linear(in_features=24, out_features=2, bias=True)\n",
       ")"
      ]
     },
     "execution_count": 165,
     "metadata": {},
     "output_type": "execute_result"
    }
   ],
   "source": [
    "torch.save(model.state_dict(), \"lstm_tagger.pt\")\n",
    "model = LSTMTagger(EMBEDDING_DIM, HIDDEN_DIM, VOCAB_SIZE, TAGSET_SIZE)\n",
    "\n",
    "model.load_state_dict(torch.load(\"lstm_tagger.pt\"))\n",
    "model.eval()"
   ]
  },
  {
   "cell_type": "code",
   "execution_count": null,
   "metadata": {},
   "outputs": [],
   "source": []
  }
 ],
 "metadata": {
  "kernelspec": {
   "display_name": "punctuation_restoration",
   "language": "python",
   "name": "punctuation_restoration"
  },
  "language_info": {
   "codemirror_mode": {
    "name": "ipython",
    "version": 3
   },
   "file_extension": ".py",
   "mimetype": "text/x-python",
   "name": "python",
   "nbconvert_exporter": "python",
   "pygments_lexer": "ipython3",
   "version": "3.8.2"
  }
 },
 "nbformat": 4,
 "nbformat_minor": 4
}
