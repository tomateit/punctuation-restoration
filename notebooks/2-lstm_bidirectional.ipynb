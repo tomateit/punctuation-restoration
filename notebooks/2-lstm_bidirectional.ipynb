{
 "cells": [
  {
   "cell_type": "markdown",
   "metadata": {},
   "source": [
    "# Punctuation restoration\n",
    "## Notebook 2, same as 1, but I gonna train the lstm with bidirectional=True"
   ]
  },
  {
   "cell_type": "markdown",
   "metadata": {},
   "source": [
    "+ Bidirectional ON\n",
    "+ Only literature, no news\n",
    "+ Shorter sents (due to increased training time)"
   ]
  },
  {
   "cell_type": "markdown",
   "metadata": {},
   "source": [
    "## Step 1: common preparation of textual data\n",
    "\n",
    "Yttm will behave nicely with text with commas, separated by space from both sides. This approach misses some information, like common word endings that are followed by a comma, yet it may be simplier to implement.\n",
    "\n",
    "**Important**: this shall be done for every training case. At the evaluation step text shall not contain any commas"
   ]
  },
  {
   "cell_type": "code",
   "execution_count": 2,
   "metadata": {},
   "outputs": [],
   "source": [
    "import youtokentome as yttm\n",
    "import pandas as pd\n",
    "import numpy as np\n",
    "import re"
   ]
  },
  {
   "cell_type": "code",
   "execution_count": 71,
   "metadata": {},
   "outputs": [],
   "source": [
    "corpus = []"
   ]
  },
  {
   "cell_type": "code",
   "execution_count": 75,
   "metadata": {},
   "outputs": [],
   "source": [
    "# the archive shall be pre-downloaded\n",
    "# https://github.com/natasha/corus#load_taiga_proza\n",
    "from corus import load_taiga_proza_metas, load_taiga_proza\n",
    "from pathlib import Path\n",
    "path = Path(\"~/datasets/corus/taiga/proza_ru.zip\").expanduser()\n",
    "if not path.parent.exists():\n",
    "    path.parent.mkdir(parents=True, exist_ok=False)\n",
    "\n",
    "metas = load_taiga_proza_metas(path, offset=0, count=80000)\n",
    "records = load_taiga_proza(path, metas, offset=0, count=80000)"
   ]
  },
  {
   "cell_type": "code",
   "execution_count": null,
   "metadata": {},
   "outputs": [],
   "source": [
    "corpus.extend([record.text.replace(\",\", \" ,\") for record in records])"
   ]
  },
  {
   "cell_type": "code",
   "execution_count": 74,
   "metadata": {},
   "outputs": [
    {
     "data": {
      "text/plain": [
       "0"
      ]
     },
     "execution_count": 74,
     "metadata": {},
     "output_type": "execute_result"
    }
   ],
   "source": [
    "len(corpus)"
   ]
  },
  {
   "cell_type": "markdown",
   "metadata": {},
   "source": [
    "## Step 2: creating encoder\n",
    "For such modified text data bpe encoder shall be trained separately, of course."
   ]
  },
  {
   "cell_type": "code",
   "execution_count": 7,
   "metadata": {},
   "outputs": [],
   "source": [
    "TOTAL_WORDS = 5000\n",
    "BPE_MODEL_PATH = \"bpe2.yttm\"\n",
    "def create_bpe_tokenizer_from_scratch(corpus, train_data_path=\"yttm_train_data.txt\"):\n",
    "    with open(train_data_path, \"w\") as _file:\n",
    "        _file.writelines(corpus)\n",
    "    # Training model\n",
    "    # (data, model, vocab_size, coverage, n_threads=-1, pad_id=0, unk_id=1, bos_id=2, eos_id=3)\n",
    "    return yttm.BPE.train(data=train_data_path, vocab_size=TOTAL_WORDS, model=BPE_MODEL_PATH, n_threads=6)"
   ]
  },
  {
   "cell_type": "code",
   "execution_count": 8,
   "metadata": {},
   "outputs": [],
   "source": [
    "bpe = create_bpe_tokenizer_from_scratch(\" \\n \".join(corpus))\n",
    "COMMA = bpe.encode(\" ,\")[0] # COMMA token shall be fixed after each re-training"
   ]
  },
  {
   "cell_type": "markdown",
   "metadata": {},
   "source": [
    "## Step 3: comma encoding algorithm"
   ]
  },
  {
   "cell_type": "code",
   "execution_count": 9,
   "metadata": {},
   "outputs": [],
   "source": [
    "def encode_commas(sent):\n",
    "    # for-loopish version can be optimized\n",
    "    result = []\n",
    "    for idx, token in enumerate(sent):\n",
    "        if idx == len(sent) - 1:\n",
    "            # no comma checking for last token\n",
    "            result.append(0)\n",
    "        else:\n",
    "            if token == COMMA:\n",
    "                continue\n",
    "            elif sent[idx+1] == COMMA:\n",
    "                result.append(1)\n",
    "            else:\n",
    "                result.append(0)\n",
    "    return result"
   ]
  },
  {
   "cell_type": "markdown",
   "metadata": {},
   "source": [
    "## Step 4: creating train data\n"
   ]
  },
  {
   "cell_type": "markdown",
   "metadata": {},
   "source": [
    "1. Encode a sentence\n",
    "2. Encode commas\n",
    "3. Strip commas from encoded sentence\n",
    "4. Ensure lengthes are equal"
   ]
  },
  {
   "cell_type": "code",
   "execution_count": 10,
   "metadata": {},
   "outputs": [],
   "source": [
    "from razdel import sentenize\n",
    "from tqdm import tqdm"
   ]
  },
  {
   "cell_type": "code",
   "execution_count": 36,
   "metadata": {},
   "outputs": [],
   "source": [
    "# we dont need sents without commas\n",
    "corpus_of_sents_with_commas = [ sent.strip() \n",
    "                               for text in corpus \n",
    "                               for sent in [s.text for s in sentenize(text)]\n",
    "                               if \",\" in sent ]"
   ]
  },
  {
   "cell_type": "code",
   "execution_count": 39,
   "metadata": {},
   "outputs": [
    {
     "name": "stdout",
     "output_type": "stream",
     "text": [
      "Lengthes do not match at 83909: sentence has 26 and taglist has 27\n",
      "Lengthes do not match at 226584: sentence has 46 and taglist has 47\n",
      "Lengthes do not match at 799466: sentence has 27 and taglist has 28\n",
      "Lengthes do not match at 806042: sentence has 10 and taglist has 11\n",
      "Lengthes do not match at 1783144: sentence has 17 and taglist has 18\n",
      "Lengthes do not match at 2142447: sentence has 37 and taglist has 38\n",
      "Lengthes do not match at 2427291: sentence has 11 and taglist has 12\n",
      "Lengthes do not match at 3495235: sentence has 12 and taglist has 13\n",
      "Lengthes do not match at 3889172: sentence has 11 and taglist has 12\n",
      "Lengthes do not match at 5095627: sentence has 26 and taglist has 27\n",
      "Lengthes do not match at 5735518: sentence has 21 and taglist has 22\n",
      "Lengthes do not match at 5963820: sentence has 17 and taglist has 18\n"
     ]
    }
   ],
   "source": [
    "encoded_corpus = []\n",
    "tags = []\n",
    "MAX_SEQUENCE_LENGTH = 90\n",
    "for idx, sent in enumerate(corpus_of_sents_with_commas):\n",
    "    encoded_sentence = bpe.encode(sent)\n",
    "    \n",
    "    if not COMMA in encoded_sentence:\n",
    "        continue\n",
    "           \n",
    "    if encoded_sentence[0] == COMMA:\n",
    "        # Normally shall not be the case\n",
    "        # ... yet it is - direct speech gets separated leaving a chunks with leading commas\n",
    "        continue\n",
    "            \n",
    "    taglist = encode_commas(encoded_sentence)\n",
    "    encoded_sentence = list(filter(lambda x: x != COMMA, encoded_sentence))\n",
    "    \n",
    "    es_len = len(encoded_sentence)\n",
    "    tl_len = len(taglist)\n",
    "    \n",
    "    if es_len > MAX_SEQUENCE_LENGTH:\n",
    "        continue # I keep no hope the net will manage to comprehend such a lenthy chunk\n",
    "    if es_len < 10:\n",
    "        continue\n",
    "        \n",
    "    if es_len != tl_len:\n",
    "        # this shall be examined and fixed without such workaround\n",
    "        print(f\"Lengthes do not match at {idx}: sentence has {es_len} and taglist has {tl_len}\")\n",
    "        continue\n",
    "        \n",
    "    encoded_corpus.append(encoded_sentence)\n",
    "    tags.append(taglist)"
   ]
  },
  {
   "cell_type": "code",
   "execution_count": 45,
   "metadata": {},
   "outputs": [
    {
     "name": "stdout",
     "output_type": "stream",
     "text": [
      "Я-воздух , я-огонь , я-земля я-вода ,\n",
      "ВСЕ БУДЕТ ХОРОШО , , , МЫ ВЫДЕРЖИМ , , , ВЕДЬ МЫ СИЛЬНЫЕ , , , ТЫ ЖЕ ЗНАЕШЬ , , , , МЫ ВМЕСТЕ , , ,\n",
      "ПРОДОЛЖЕНИЕ СЛЕДУЕТ , , , , , , , , , , , , , , , , , , , ,\n"
     ]
    }
   ],
   "source": [
    "# we can explore, what sents were misencoded\n",
    "print(corpus_of_sents_with_commas[1783144])\n",
    "print(corpus_of_sents_with_commas[226584])\n",
    "print(corpus_of_sents_with_commas[3495235])\n",
    "# ... well, seems to be okay to miss such sentences"
   ]
  },
  {
   "cell_type": "code",
   "execution_count": null,
   "metadata": {},
   "outputs": [],
   "source": []
  },
  {
   "cell_type": "code",
   "execution_count": 46,
   "metadata": {},
   "outputs": [
    {
     "data": {
      "text/plain": [
       "5689804"
      ]
     },
     "execution_count": 46,
     "metadata": {},
     "output_type": "execute_result"
    }
   ],
   "source": [
    "len(encoded_corpus)"
   ]
  },
  {
   "cell_type": "code",
   "execution_count": 47,
   "metadata": {},
   "outputs": [],
   "source": [
    "assert len(tags) == len(encoded_corpus)"
   ]
  },
  {
   "cell_type": "markdown",
   "metadata": {},
   "source": [
    "## Step 5: creating model"
   ]
  },
  {
   "cell_type": "code",
   "execution_count": 15,
   "metadata": {},
   "outputs": [],
   "source": [
    "import torch\n",
    "import torch.nn as nn\n",
    "import torch.optim as optim\n",
    "import torch.nn.functional as F"
   ]
  },
  {
   "cell_type": "code",
   "execution_count": 16,
   "metadata": {},
   "outputs": [],
   "source": [
    "EMBEDDING_DIM = 32\n",
    "HIDDEN_DIM    = 24\n",
    "VOCAB_SIZE    = TOTAL_WORDS\n",
    "TAGSET_SIZE   = 2"
   ]
  },
  {
   "cell_type": "code",
   "execution_count": 17,
   "metadata": {},
   "outputs": [],
   "source": [
    "class LSTMTagger(nn.Module):\n",
    "\n",
    "    def __init__(self, embedding_dim, hidden_dim, vocab_size, tagset_size):\n",
    "        super(LSTMTagger, self).__init__()\n",
    "        \n",
    "        self.hidden_dim      = hidden_dim\n",
    "        \n",
    "        self.word_embeddings = nn.Embedding(vocab_size, embedding_dim)\n",
    "        self.lstm            = nn.LSTM(embedding_dim, hidden_dim)\n",
    "        self.hidden2tag      = nn.Linear(hidden_dim, tagset_size)\n",
    "        self.lstm            = nn.LSTM(embedding_dim, hidden_dim, bidirectional=True)\n",
    "        self.hidden2tag      = nn.Linear(2*hidden_dim, tagset_size)\n",
    "\n",
    "    def forward(self, words):\n",
    "        embeds      = self.word_embeddings(words)\n",
    "        lstm_out, _ = self.lstm(embeds.view(len(words), 1, -1))\n",
    "        tag_space   = self.hidden2tag(lstm_out.view(len(words), -1))\n",
    "        tag_scores  = F.log_softmax(tag_space, dim=1)\n",
    "        \n",
    "        return tag_scores\n",
    "    \n",
    "    def predict_tags(self, words):\n",
    "        with torch.no_grad():\n",
    "            tags_pred = model(words).numpy()\n",
    "            tags_pred = np.argmax(tags_pred, axis=1)\n",
    "            \n",
    "        return tags_pred"
   ]
  },
  {
   "cell_type": "code",
   "execution_count": 53,
   "metadata": {},
   "outputs": [
    {
     "name": "stdout",
     "output_type": "stream",
     "text": [
      "tensor([ 1.0033, 12.2661])\n"
     ]
    }
   ],
   "source": [
    "# weighted loss function\n",
    "zerocount = sum([len(a) - sum(a) for a in tags])\n",
    "onecount = sum([sum(a) for a in tags])\n",
    "\n",
    "class_divs = torch.tensor([zerocount, onecount], dtype=float)\n",
    "norm = torch.norm(class_divs, p=2, dim=0).detach()\n",
    "\n",
    "class_divs = class_divs.div(norm.expand_as(class_divs))\n",
    "class_weights = torch.ones(2)\n",
    "\n",
    "class_weights /= class_divs\n",
    "\n",
    "print(class_weights.detach())"
   ]
  },
  {
   "cell_type": "code",
   "execution_count": 52,
   "metadata": {},
   "outputs": [],
   "source": [
    "model         = LSTMTagger(EMBEDDING_DIM, HIDDEN_DIM, VOCAB_SIZE, TAGSET_SIZE)\n",
    "optimizer     = optim.SGD(model.parameters(), lr=0.01)"
   ]
  },
  {
   "cell_type": "code",
   "execution_count": 54,
   "metadata": {},
   "outputs": [],
   "source": [
    "loss_function = nn.NLLLoss() "
   ]
  },
  {
   "cell_type": "code",
   "execution_count": 20,
   "metadata": {},
   "outputs": [],
   "source": [
    "loss_function = nn.NLLLoss(class_weights)"
   ]
  },
  {
   "cell_type": "code",
   "execution_count": 55,
   "metadata": {},
   "outputs": [],
   "source": [
    "from livelossplot import PlotLosses\n",
    "\n",
    "liveplot = PlotLosses()"
   ]
  },
  {
   "cell_type": "code",
   "execution_count": 56,
   "metadata": {},
   "outputs": [],
   "source": [
    "very_bad_sentences = []"
   ]
  },
  {
   "cell_type": "code",
   "execution_count": 57,
   "metadata": {},
   "outputs": [
    {
     "data": {
      "image/png": "[encoded data removed]",
      "text/plain": [
       "<Figure size 864x576 with 2 Axes>"
      ]
     },
     "metadata": {
      "needs_background": "light"
     },
     "output_type": "display_data"
    },
    {
     "name": "stdout",
     "output_type": "stream",
     "text": [
      "negative log likelihood loss\n",
      "\tnegative log likelihood loss \t (min:    0.004, max:    1.055, cur:    0.065)\n",
      "Iteration 3099000 of epoch 0\n"
     ]
    },
    {
     "ename": "KeyboardInterrupt",
     "evalue": "",
     "output_type": "error",
     "traceback": [
      "\u001b[0;31m---------------------------------------------------------------------------\u001b[0m",
      "\u001b[0;31mKeyboardInterrupt\u001b[0m                         Traceback (most recent call last)",
      "\u001b[0;32m<ipython-input-57-2aff12d3af83>\u001b[0m in \u001b[0;36m<module>\u001b[0;34m\u001b[0m\n\u001b[1;32m      8\u001b[0m \u001b[0;34m\u001b[0m\u001b[0m\n\u001b[1;32m      9\u001b[0m         \u001b[0mloss\u001b[0m \u001b[0;34m=\u001b[0m \u001b[0mloss_function\u001b[0m\u001b[0;34m(\u001b[0m\u001b[0mtag_scores\u001b[0m\u001b[0;34m,\u001b[0m \u001b[0mtaglist\u001b[0m\u001b[0;34m)\u001b[0m\u001b[0;34m\u001b[0m\u001b[0;34m\u001b[0m\u001b[0m\n\u001b[0;32m---> 10\u001b[0;31m         \u001b[0mloss\u001b[0m\u001b[0;34m.\u001b[0m\u001b[0mbackward\u001b[0m\u001b[0;34m(\u001b[0m\u001b[0;34m)\u001b[0m\u001b[0;34m\u001b[0m\u001b[0;34m\u001b[0m\u001b[0m\n\u001b[0m\u001b[1;32m     11\u001b[0m         \u001b[0moptimizer\u001b[0m\u001b[0;34m.\u001b[0m\u001b[0mstep\u001b[0m\u001b[0;34m(\u001b[0m\u001b[0;34m)\u001b[0m\u001b[0;34m\u001b[0m\u001b[0;34m\u001b[0m\u001b[0m\n\u001b[1;32m     12\u001b[0m         \u001b[0;32mif\u001b[0m \u001b[0mloss\u001b[0m \u001b[0;34m>\u001b[0m \u001b[0;36m3\u001b[0m\u001b[0;34m:\u001b[0m\u001b[0;34m\u001b[0m\u001b[0;34m\u001b[0m\u001b[0m\n",
      "\u001b[0;32m~/code/python-playground/app_punctuation_restoration/.venv/lib/python3.8/site-packages/torch/tensor.py\u001b[0m in \u001b[0;36mbackward\u001b[0;34m(self, gradient, retain_graph, create_graph, inputs)\u001b[0m\n\u001b[1;32m    243\u001b[0m                 \u001b[0mcreate_graph\u001b[0m\u001b[0;34m=\u001b[0m\u001b[0mcreate_graph\u001b[0m\u001b[0;34m,\u001b[0m\u001b[0;34m\u001b[0m\u001b[0;34m\u001b[0m\u001b[0m\n\u001b[1;32m    244\u001b[0m                 inputs=inputs)\n\u001b[0;32m--> 245\u001b[0;31m         \u001b[0mtorch\u001b[0m\u001b[0;34m.\u001b[0m\u001b[0mautograd\u001b[0m\u001b[0;34m.\u001b[0m\u001b[0mbackward\u001b[0m\u001b[0;34m(\u001b[0m\u001b[0mself\u001b[0m\u001b[0;34m,\u001b[0m \u001b[0mgradient\u001b[0m\u001b[0;34m,\u001b[0m \u001b[0mretain_graph\u001b[0m\u001b[0;34m,\u001b[0m \u001b[0mcreate_graph\u001b[0m\u001b[0;34m,\u001b[0m \u001b[0minputs\u001b[0m\u001b[0;34m=\u001b[0m\u001b[0minputs\u001b[0m\u001b[0;34m)\u001b[0m\u001b[0;34m\u001b[0m\u001b[0;34m\u001b[0m\u001b[0m\n\u001b[0m\u001b[1;32m    246\u001b[0m \u001b[0;34m\u001b[0m\u001b[0m\n\u001b[1;32m    247\u001b[0m     \u001b[0;32mdef\u001b[0m \u001b[0mregister_hook\u001b[0m\u001b[0;34m(\u001b[0m\u001b[0mself\u001b[0m\u001b[0;34m,\u001b[0m \u001b[0mhook\u001b[0m\u001b[0;34m)\u001b[0m\u001b[0;34m:\u001b[0m\u001b[0;34m\u001b[0m\u001b[0;34m\u001b[0m\u001b[0m\n",
      "\u001b[0;32m~/code/python-playground/app_punctuation_restoration/.venv/lib/python3.8/site-packages/torch/autograd/__init__.py\u001b[0m in \u001b[0;36mbackward\u001b[0;34m(tensors, grad_tensors, retain_graph, create_graph, grad_variables, inputs)\u001b[0m\n\u001b[1;32m    143\u001b[0m         \u001b[0mretain_graph\u001b[0m \u001b[0;34m=\u001b[0m \u001b[0mcreate_graph\u001b[0m\u001b[0;34m\u001b[0m\u001b[0;34m\u001b[0m\u001b[0m\n\u001b[1;32m    144\u001b[0m \u001b[0;34m\u001b[0m\u001b[0m\n\u001b[0;32m--> 145\u001b[0;31m     Variable._execution_engine.run_backward(\n\u001b[0m\u001b[1;32m    146\u001b[0m         \u001b[0mtensors\u001b[0m\u001b[0;34m,\u001b[0m \u001b[0mgrad_tensors_\u001b[0m\u001b[0;34m,\u001b[0m \u001b[0mretain_graph\u001b[0m\u001b[0;34m,\u001b[0m \u001b[0mcreate_graph\u001b[0m\u001b[0;34m,\u001b[0m \u001b[0minputs\u001b[0m\u001b[0;34m,\u001b[0m\u001b[0;34m\u001b[0m\u001b[0;34m\u001b[0m\u001b[0m\n\u001b[1;32m    147\u001b[0m         allow_unreachable=True, accumulate_grad=True)  # allow_unreachable flag\n",
      "\u001b[0;31mKeyboardInterrupt\u001b[0m: "
     ]
    }
   ],
   "source": [
    "for epoch in range(1): \n",
    "    for i, (text, taglist) in enumerate(zip(encoded_corpus, tags)):\n",
    "        model.train()\n",
    "        model.zero_grad()\n",
    "        text = torch.tensor(text)\n",
    "        taglist = torch.tensor(taglist)\n",
    "        tag_scores = model(text)\n",
    "\n",
    "        loss = loss_function(tag_scores, taglist)\n",
    "        loss.backward()\n",
    "        optimizer.step()\n",
    "        if loss > 3:\n",
    "            very_bad_sentences.append((text, np.argmax(tag_scores.detach().numpy(), axis=1)))\n",
    "        \n",
    "        if i % 1000 == 0:\n",
    "            l = loss.detach().numpy()\n",
    "            liveplot.update({\"negative log likelihood loss\": l})\n",
    "            liveplot.draw()\n",
    "            print(f\"Iteration {i} of epoch {epoch}\")"
   ]
  },
  {
   "cell_type": "markdown",
   "metadata": {},
   "source": [
    "## Step 6: evaluation and inverse transformation\n",
    "\n",
    "Now when we have a model predicting commas for us, it would be useful to inject those predictions right into our sentence."
   ]
  },
  {
   "cell_type": "markdown",
   "metadata": {},
   "source": [
    "idea: assume the pre-existing commas are correct, and fill in only missing ones."
   ]
  },
  {
   "cell_type": "code",
   "execution_count": 58,
   "metadata": {},
   "outputs": [],
   "source": [
    "def fill_in_commas(text):\n",
    "    # ensure text accidentaly has no duplicated spaces\n",
    "    text = re.sub(\"\\s{2,}\", \" \", text)\n",
    "    # encode text by bpe\n",
    "    encoded_text = bpe.encode(text)\n",
    "    # get predicted labels\n",
    "    with torch.no_grad():\n",
    "        predicted_tags = model.predict_tags(torch.tensor(encoded_text))\n",
    "    # inject commas\n",
    "    result = []\n",
    "    for token, label in zip(encoded_text, predicted_tags):\n",
    "        result.append(token)\n",
    "        if label:\n",
    "            result.append(COMMA)\n",
    "    result = bpe.decode(result)[0]\n",
    "    \n",
    "    # return normal spacing\n",
    "    result = result.replace(\" ,\", \",\")\n",
    "    # remove commas in the middle of words (this actually shall not be the case but nevertheless they are)\n",
    "    result = re.sub(\"(?<=\\w),(?=\\w)\", \"\", result)\n",
    "    # same with commas right before punctuations\n",
    "    result = re.sub(\",(?=[.?!;:])\", \"\", result)\n",
    "    # and repeating commas (kinda ok, since we pass texts with commas)\n",
    "    result = re.sub(\",{2,}\", \",\", result)\n",
    "    return result\n",
    "    "
   ]
  },
  {
   "cell_type": "code",
   "execution_count": 59,
   "metadata": {},
   "outputs": [
    {
     "data": {
      "text/plain": [
       "'Я не знаю, что это такое, однако могу предположить, что что-то плохое.'"
      ]
     },
     "execution_count": 59,
     "metadata": {},
     "output_type": "execute_result"
    }
   ],
   "source": [
    "fill_in_commas(\"Я не знаю что это такое однако могу предположить что что-то плохое.\")"
   ]
  },
  {
   "cell_type": "code",
   "execution_count": 60,
   "metadata": {},
   "outputs": [
    {
     "data": {
      "text/plain": [
       "'Ой, ну это - да; надо убираться больше, а ещё почухать его.'"
      ]
     },
     "execution_count": 60,
     "metadata": {},
     "output_type": "execute_result"
    }
   ],
   "source": [
    "fill_in_commas(\"Ой, ну это - да; надо убираться больше а ещё почухать его.\")"
   ]
  },
  {
   "cell_type": "code",
   "execution_count": 61,
   "metadata": {},
   "outputs": [
    {
     "data": {
      "text/plain": [
       "'Всё это очень долгое сложное неинтересное и непонятное.'"
      ]
     },
     "execution_count": 61,
     "metadata": {},
     "output_type": "execute_result"
    }
   ],
   "source": [
    "fill_in_commas(\"Всё это очень долгое сложное неинтересное и непонятное.\")"
   ]
  },
  {
   "cell_type": "code",
   "execution_count": 62,
   "metadata": {},
   "outputs": [
    {
     "data": {
      "text/plain": [
       "'А когда все поймут будет уже поздно, и мы сделаем своё дело, как никто никогда раньше не делал.'"
      ]
     },
     "execution_count": 62,
     "metadata": {},
     "output_type": "execute_result"
    }
   ],
   "source": [
    "fill_in_commas(\"А когда все поймут будет уже поздно и мы сделаем своё дело как никто никогда раньше не делал.\")"
   ]
  },
  {
   "cell_type": "markdown",
   "metadata": {},
   "source": [
    "## Saving the model"
   ]
  },
  {
   "cell_type": "code",
   "execution_count": 63,
   "metadata": {},
   "outputs": [
    {
     "data": {
      "text/plain": [
       "LSTMTagger(\n",
       "  (word_embeddings): Embedding(5000, 32)\n",
       "  (lstm): LSTM(32, 24, bidirectional=True)\n",
       "  (hidden2tag): Linear(in_features=48, out_features=2, bias=True)\n",
       ")"
      ]
     },
     "execution_count": 63,
     "metadata": {},
     "output_type": "execute_result"
    }
   ],
   "source": [
    "torch.save(model.state_dict(), 'lstm_tagger_bidirectional.pt')\n",
    "model = LSTMTagger(EMBEDDING_DIM, HIDDEN_DIM, VOCAB_SIZE, TAGSET_SIZE)\n",
    "\n",
    "model.load_state_dict(torch.load('lstm_tagger_bidirectional.pt'))\n",
    "model.eval()"
   ]
  },
  {
   "cell_type": "code",
   "execution_count": null,
   "metadata": {},
   "outputs": [],
   "source": []
  }
 ],
 "metadata": {
  "kernelspec": {
   "display_name": "punctuation_restoration",
   "language": "python",
   "name": "punctuation_restoration"
  },
  "language_info": {
   "codemirror_mode": {
    "name": "ipython",
    "version": 3
   },
   "file_extension": ".py",
   "mimetype": "text/x-python",
   "name": "python",
   "nbconvert_exporter": "python",
   "pygments_lexer": "ipython3",
   "version": "3.8.2"
  }
 },
 "nbformat": 4,
 "nbformat_minor": 4
}
